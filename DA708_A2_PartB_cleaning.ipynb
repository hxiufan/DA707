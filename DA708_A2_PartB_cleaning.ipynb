{
 "cells": [
  {
   "cell_type": "code",
   "execution_count": 1,
   "id": "0041046d-2f35-4fca-ab88-14137a37d247",
   "metadata": {},
   "outputs": [],
   "source": [
    "import pandas as pd"
   ]
  },
  {
   "cell_type": "code",
   "execution_count": 4,
   "id": "fce80070-1922-48f1-a92e-51736fd21335",
   "metadata": {},
   "outputs": [],
   "source": [
    "df = pd.read_csv('customer_segmentation_full.csv')"
   ]
  },
  {
   "cell_type": "code",
   "execution_count": 11,
   "id": "5b44c65a-10f8-4ec7-a32e-dfa0ba911e4d",
   "metadata": {},
   "outputs": [
    {
     "name": "stdout",
     "output_type": "stream",
     "text": [
      "<class 'pandas.core.frame.DataFrame'>\n",
      "RangeIndex: 10695 entries, 0 to 10694\n",
      "Data columns (total 11 columns):\n",
      " #   Column           Non-Null Count  Dtype  \n",
      "---  ------           --------------  -----  \n",
      " 0   ID               10695 non-null  int64  \n",
      " 1   Gender           10695 non-null  object \n",
      " 2   Ever_Married     10505 non-null  object \n",
      " 3   Age              10695 non-null  int64  \n",
      " 4   Graduated        10593 non-null  object \n",
      " 5   Profession       10533 non-null  object \n",
      " 6   Work_Experience  9597 non-null   float64\n",
      " 7   Spending_Score   10695 non-null  object \n",
      " 8   Family_Size      10247 non-null  float64\n",
      " 9   Var_1            10587 non-null  object \n",
      " 10  Segmentation     10695 non-null  object \n",
      "dtypes: float64(2), int64(2), object(7)\n",
      "memory usage: 919.2+ KB\n"
     ]
    }
   ],
   "source": [
    "df.info()"
   ]
  },
  {
   "cell_type": "code",
   "execution_count": 6,
   "id": "f16bc7c4-1785-4c1a-9d38-6d8592b89b05",
   "metadata": {},
   "outputs": [
    {
     "data": {
      "text/html": [
       "<div>\n",
       "<style scoped>\n",
       "    .dataframe tbody tr th:only-of-type {\n",
       "        vertical-align: middle;\n",
       "    }\n",
       "\n",
       "    .dataframe tbody tr th {\n",
       "        vertical-align: top;\n",
       "    }\n",
       "\n",
       "    .dataframe thead th {\n",
       "        text-align: right;\n",
       "    }\n",
       "</style>\n",
       "<table border=\"1\" class=\"dataframe\">\n",
       "  <thead>\n",
       "    <tr style=\"text-align: right;\">\n",
       "      <th></th>\n",
       "      <th>ID</th>\n",
       "      <th>Gender</th>\n",
       "      <th>Ever_Married</th>\n",
       "      <th>Age</th>\n",
       "      <th>Graduated</th>\n",
       "      <th>Profession</th>\n",
       "      <th>Work_Experience</th>\n",
       "      <th>Spending_Score</th>\n",
       "      <th>Family_Size</th>\n",
       "      <th>Var_1</th>\n",
       "      <th>Segmentation</th>\n",
       "    </tr>\n",
       "  </thead>\n",
       "  <tbody>\n",
       "    <tr>\n",
       "      <th>0</th>\n",
       "      <td>462809</td>\n",
       "      <td>Male</td>\n",
       "      <td>No</td>\n",
       "      <td>22</td>\n",
       "      <td>No</td>\n",
       "      <td>Healthcare</td>\n",
       "      <td>1.0</td>\n",
       "      <td>Low</td>\n",
       "      <td>4.0</td>\n",
       "      <td>Cat_4</td>\n",
       "      <td>D</td>\n",
       "    </tr>\n",
       "    <tr>\n",
       "      <th>1</th>\n",
       "      <td>462643</td>\n",
       "      <td>Female</td>\n",
       "      <td>Yes</td>\n",
       "      <td>38</td>\n",
       "      <td>Yes</td>\n",
       "      <td>Engineer</td>\n",
       "      <td>NaN</td>\n",
       "      <td>Average</td>\n",
       "      <td>3.0</td>\n",
       "      <td>Cat_4</td>\n",
       "      <td>A</td>\n",
       "    </tr>\n",
       "    <tr>\n",
       "      <th>2</th>\n",
       "      <td>466315</td>\n",
       "      <td>Female</td>\n",
       "      <td>Yes</td>\n",
       "      <td>67</td>\n",
       "      <td>Yes</td>\n",
       "      <td>Engineer</td>\n",
       "      <td>1.0</td>\n",
       "      <td>Low</td>\n",
       "      <td>1.0</td>\n",
       "      <td>Cat_6</td>\n",
       "      <td>B</td>\n",
       "    </tr>\n",
       "    <tr>\n",
       "      <th>3</th>\n",
       "      <td>461735</td>\n",
       "      <td>Male</td>\n",
       "      <td>Yes</td>\n",
       "      <td>67</td>\n",
       "      <td>Yes</td>\n",
       "      <td>Lawyer</td>\n",
       "      <td>0.0</td>\n",
       "      <td>High</td>\n",
       "      <td>2.0</td>\n",
       "      <td>Cat_6</td>\n",
       "      <td>B</td>\n",
       "    </tr>\n",
       "    <tr>\n",
       "      <th>4</th>\n",
       "      <td>462669</td>\n",
       "      <td>Female</td>\n",
       "      <td>Yes</td>\n",
       "      <td>40</td>\n",
       "      <td>Yes</td>\n",
       "      <td>Entertainment</td>\n",
       "      <td>NaN</td>\n",
       "      <td>High</td>\n",
       "      <td>6.0</td>\n",
       "      <td>Cat_6</td>\n",
       "      <td>A</td>\n",
       "    </tr>\n",
       "  </tbody>\n",
       "</table>\n",
       "</div>"
      ],
      "text/plain": [
       "       ID  Gender Ever_Married  Age Graduated     Profession  Work_Experience  \\\n",
       "0  462809    Male           No   22        No     Healthcare              1.0   \n",
       "1  462643  Female          Yes   38       Yes       Engineer              NaN   \n",
       "2  466315  Female          Yes   67       Yes       Engineer              1.0   \n",
       "3  461735    Male          Yes   67       Yes         Lawyer              0.0   \n",
       "4  462669  Female          Yes   40       Yes  Entertainment              NaN   \n",
       "\n",
       "  Spending_Score  Family_Size  Var_1 Segmentation  \n",
       "0            Low          4.0  Cat_4            D  \n",
       "1        Average          3.0  Cat_4            A  \n",
       "2            Low          1.0  Cat_6            B  \n",
       "3           High          2.0  Cat_6            B  \n",
       "4           High          6.0  Cat_6            A  "
      ]
     },
     "execution_count": 6,
     "metadata": {},
     "output_type": "execute_result"
    }
   ],
   "source": [
    "A# Display the first few rows\n",
    "df.head()"
   ]
  },
  {
   "cell_type": "code",
   "execution_count": 8,
   "id": "5d72b3d5-6630-40b6-a388-c2269a38d8e3",
   "metadata": {},
   "outputs": [
    {
     "data": {
      "text/html": [
       "<div>\n",
       "<style scoped>\n",
       "    .dataframe tbody tr th:only-of-type {\n",
       "        vertical-align: middle;\n",
       "    }\n",
       "\n",
       "    .dataframe tbody tr th {\n",
       "        vertical-align: top;\n",
       "    }\n",
       "\n",
       "    .dataframe thead th {\n",
       "        text-align: right;\n",
       "    }\n",
       "</style>\n",
       "<table border=\"1\" class=\"dataframe\">\n",
       "  <thead>\n",
       "    <tr style=\"text-align: right;\">\n",
       "      <th></th>\n",
       "      <th>ID</th>\n",
       "      <th>Gender</th>\n",
       "      <th>Ever_Married</th>\n",
       "      <th>Age</th>\n",
       "      <th>Graduated</th>\n",
       "      <th>Profession</th>\n",
       "      <th>Work_Experience</th>\n",
       "      <th>Spending_Score</th>\n",
       "      <th>Family_Size</th>\n",
       "      <th>Var_1</th>\n",
       "      <th>Segmentation</th>\n",
       "    </tr>\n",
       "  </thead>\n",
       "  <tbody>\n",
       "    <tr>\n",
       "      <th>8084</th>\n",
       "      <td>459036</td>\n",
       "      <td>Female</td>\n",
       "      <td>Yes</td>\n",
       "      <td>20</td>\n",
       "      <td>Yes</td>\n",
       "      <td>Lawyer</td>\n",
       "      <td>1.0</td>\n",
       "      <td>Average</td>\n",
       "      <td>3.0</td>\n",
       "      <td>Cat_3</td>\n",
       "      <td>D</td>\n",
       "    </tr>\n",
       "    <tr>\n",
       "      <th>8085</th>\n",
       "      <td>459039</td>\n",
       "      <td>Male</td>\n",
       "      <td>Yes</td>\n",
       "      <td>45</td>\n",
       "      <td>Yes</td>\n",
       "      <td>Artist</td>\n",
       "      <td>1.0</td>\n",
       "      <td>Average</td>\n",
       "      <td>2.0</td>\n",
       "      <td>Cat_6</td>\n",
       "      <td>B</td>\n",
       "    </tr>\n",
       "    <tr>\n",
       "      <th>8146</th>\n",
       "      <td>459223</td>\n",
       "      <td>Female</td>\n",
       "      <td>Yes</td>\n",
       "      <td>47</td>\n",
       "      <td>Yes</td>\n",
       "      <td>Doctor</td>\n",
       "      <td>1.0</td>\n",
       "      <td>Average</td>\n",
       "      <td>4.0</td>\n",
       "      <td>Cat_6</td>\n",
       "      <td>C</td>\n",
       "    </tr>\n",
       "    <tr>\n",
       "      <th>8172</th>\n",
       "      <td>459320</td>\n",
       "      <td>Male</td>\n",
       "      <td>Yes</td>\n",
       "      <td>26</td>\n",
       "      <td>Yes</td>\n",
       "      <td>Executive</td>\n",
       "      <td>0.0</td>\n",
       "      <td>Low</td>\n",
       "      <td>3.0</td>\n",
       "      <td>Cat_6</td>\n",
       "      <td>D</td>\n",
       "    </tr>\n",
       "    <tr>\n",
       "      <th>8221</th>\n",
       "      <td>459447</td>\n",
       "      <td>Male</td>\n",
       "      <td>Yes</td>\n",
       "      <td>53</td>\n",
       "      <td>Yes</td>\n",
       "      <td>Artist</td>\n",
       "      <td>9.0</td>\n",
       "      <td>Low</td>\n",
       "      <td>1.0</td>\n",
       "      <td>Cat_6</td>\n",
       "      <td>C</td>\n",
       "    </tr>\n",
       "    <tr>\n",
       "      <th>...</th>\n",
       "      <td>...</td>\n",
       "      <td>...</td>\n",
       "      <td>...</td>\n",
       "      <td>...</td>\n",
       "      <td>...</td>\n",
       "      <td>...</td>\n",
       "      <td>...</td>\n",
       "      <td>...</td>\n",
       "      <td>...</td>\n",
       "      <td>...</td>\n",
       "      <td>...</td>\n",
       "    </tr>\n",
       "    <tr>\n",
       "      <th>10606</th>\n",
       "      <td>467678</td>\n",
       "      <td>Male</td>\n",
       "      <td>No</td>\n",
       "      <td>56</td>\n",
       "      <td>No</td>\n",
       "      <td>Marketing</td>\n",
       "      <td>1.0</td>\n",
       "      <td>Low</td>\n",
       "      <td>2.0</td>\n",
       "      <td>Cat_6</td>\n",
       "      <td>A</td>\n",
       "    </tr>\n",
       "    <tr>\n",
       "      <th>10621</th>\n",
       "      <td>467726</td>\n",
       "      <td>Male</td>\n",
       "      <td>Yes</td>\n",
       "      <td>82</td>\n",
       "      <td>Yes</td>\n",
       "      <td>Lawyer</td>\n",
       "      <td>0.0</td>\n",
       "      <td>High</td>\n",
       "      <td>2.0</td>\n",
       "      <td>Cat_6</td>\n",
       "      <td>A</td>\n",
       "    </tr>\n",
       "    <tr>\n",
       "      <th>10655</th>\n",
       "      <td>467860</td>\n",
       "      <td>Female</td>\n",
       "      <td>No</td>\n",
       "      <td>33</td>\n",
       "      <td>Yes</td>\n",
       "      <td>Entertainment</td>\n",
       "      <td>0.0</td>\n",
       "      <td>Low</td>\n",
       "      <td>1.0</td>\n",
       "      <td>Cat_7</td>\n",
       "      <td>A</td>\n",
       "    </tr>\n",
       "    <tr>\n",
       "      <th>10661</th>\n",
       "      <td>467879</td>\n",
       "      <td>Female</td>\n",
       "      <td>Yes</td>\n",
       "      <td>51</td>\n",
       "      <td>Yes</td>\n",
       "      <td>Artist</td>\n",
       "      <td>NaN</td>\n",
       "      <td>High</td>\n",
       "      <td>4.0</td>\n",
       "      <td>Cat_6</td>\n",
       "      <td>A</td>\n",
       "    </tr>\n",
       "    <tr>\n",
       "      <th>10667</th>\n",
       "      <td>467892</td>\n",
       "      <td>Male</td>\n",
       "      <td>No</td>\n",
       "      <td>23</td>\n",
       "      <td>No</td>\n",
       "      <td>Doctor</td>\n",
       "      <td>1.0</td>\n",
       "      <td>Low</td>\n",
       "      <td>5.0</td>\n",
       "      <td>Cat_6</td>\n",
       "      <td>D</td>\n",
       "    </tr>\n",
       "  </tbody>\n",
       "</table>\n",
       "<p>136 rows × 11 columns</p>\n",
       "</div>"
      ],
      "text/plain": [
       "           ID  Gender Ever_Married  Age Graduated     Profession  \\\n",
       "8084   459036  Female          Yes   20       Yes         Lawyer   \n",
       "8085   459039    Male          Yes   45       Yes         Artist   \n",
       "8146   459223  Female          Yes   47       Yes         Doctor   \n",
       "8172   459320    Male          Yes   26       Yes      Executive   \n",
       "8221   459447    Male          Yes   53       Yes         Artist   \n",
       "...       ...     ...          ...  ...       ...            ...   \n",
       "10606  467678    Male           No   56        No      Marketing   \n",
       "10621  467726    Male          Yes   82       Yes         Lawyer   \n",
       "10655  467860  Female           No   33       Yes  Entertainment   \n",
       "10661  467879  Female          Yes   51       Yes         Artist   \n",
       "10667  467892    Male           No   23        No         Doctor   \n",
       "\n",
       "       Work_Experience Spending_Score  Family_Size  Var_1 Segmentation  \n",
       "8084               1.0        Average          3.0  Cat_3            D  \n",
       "8085               1.0        Average          2.0  Cat_6            B  \n",
       "8146               1.0        Average          4.0  Cat_6            C  \n",
       "8172               0.0            Low          3.0  Cat_6            D  \n",
       "8221               9.0            Low          1.0  Cat_6            C  \n",
       "...                ...            ...          ...    ...          ...  \n",
       "10606              1.0            Low          2.0  Cat_6            A  \n",
       "10621              0.0           High          2.0  Cat_6            A  \n",
       "10655              0.0            Low          1.0  Cat_7            A  \n",
       "10661              NaN           High          4.0  Cat_6            A  \n",
       "10667              1.0            Low          5.0  Cat_6            D  \n",
       "\n",
       "[136 rows x 11 columns]"
      ]
     },
     "execution_count": 8,
     "metadata": {},
     "output_type": "execute_result"
    }
   ],
   "source": [
    "duplicates = df[df.duplicated(subset = df.columns.drop(\"Segmentation\"))]\n",
    "duplicates"
   ]
  },
  {
   "cell_type": "code",
   "execution_count": 13,
   "id": "653844df-6b2b-4774-b04d-eefccd4e899a",
   "metadata": {},
   "outputs": [
    {
     "data": {
      "text/plain": [
       "ID                    0\n",
       "Gender                0\n",
       "Ever_Married        190\n",
       "Age                   0\n",
       "Graduated           102\n",
       "Profession          162\n",
       "Work_Experience    1098\n",
       "Spending_Score        0\n",
       "Family_Size         448\n",
       "Var_1               108\n",
       "Segmentation          0\n",
       "dtype: int64"
      ]
     },
     "execution_count": 13,
     "metadata": {},
     "output_type": "execute_result"
    }
   ],
   "source": [
    "df.isnull().sum()"
   ]
  },
  {
   "cell_type": "code",
   "execution_count": 10,
   "id": "dc1f5d00-2378-40c8-9a19-ca4d3f2335db",
   "metadata": {},
   "outputs": [
    {
     "name": "stderr",
     "output_type": "stream",
     "text": [
      "C:\\Users\\hxiuf\\AppData\\Local\\Temp\\ipykernel_12492\\2401906689.py:3: FutureWarning: A value is trying to be set on a copy of a DataFrame or Series through chained assignment using an inplace method.\n",
      "The behavior will change in pandas 3.0. This inplace method will never work because the intermediate object on which we are setting values always behaves as a copy.\n",
      "\n",
      "For example, when doing 'df[col].method(value, inplace=True)', try using 'df.method({col: value}, inplace=True)' or df[col] = df[col].method(value) instead, to perform the operation inplace on the original object.\n",
      "\n",
      "\n",
      "  df['Ever_Married'].fillna(mode_ever_married, inplace=True)\n"
     ]
    }
   ],
   "source": [
    "# Replace NaN in 'Ever_Married' with mode value\n",
    "mode_ever_married = df['Ever_Married'].mode()[0]\n",
    "df['Ever_Married'].fillna(mode_ever_married, inplace=True)"
   ]
  },
  {
   "cell_type": "code",
   "execution_count": 12,
   "id": "d79d2da8-fda2-4b7e-87b2-54da0af32da2",
   "metadata": {},
   "outputs": [
    {
     "name": "stderr",
     "output_type": "stream",
     "text": [
      "C:\\Users\\hxiuf\\AppData\\Local\\Temp\\ipykernel_12492\\409270212.py:3: FutureWarning: A value is trying to be set on a copy of a DataFrame or Series through chained assignment using an inplace method.\n",
      "The behavior will change in pandas 3.0. This inplace method will never work because the intermediate object on which we are setting values always behaves as a copy.\n",
      "\n",
      "For example, when doing 'df[col].method(value, inplace=True)', try using 'df.method({col: value}, inplace=True)' or df[col] = df[col].method(value) instead, to perform the operation inplace on the original object.\n",
      "\n",
      "\n",
      "  df['Graduated'].fillna(mode_graduated, inplace=True)\n"
     ]
    }
   ],
   "source": [
    "# Replace NaN in 'Graduated' with mode value\n",
    "mode_graduated = df['Graduated'].mode()[0]\n",
    "df['Graduated'].fillna(mode_graduated, inplace=True)"
   ]
  },
  {
   "cell_type": "code",
   "execution_count": 14,
   "id": "ee1ccd52-d8fa-4561-a462-be95e97a8ee6",
   "metadata": {},
   "outputs": [
    {
     "name": "stderr",
     "output_type": "stream",
     "text": [
      "C:\\Users\\hxiuf\\AppData\\Local\\Temp\\ipykernel_12492\\2674526876.py:3: FutureWarning: A value is trying to be set on a copy of a DataFrame or Series through chained assignment using an inplace method.\n",
      "The behavior will change in pandas 3.0. This inplace method will never work because the intermediate object on which we are setting values always behaves as a copy.\n",
      "\n",
      "For example, when doing 'df[col].method(value, inplace=True)', try using 'df.method({col: value}, inplace=True)' or df[col] = df[col].method(value) instead, to perform the operation inplace on the original object.\n",
      "\n",
      "\n",
      "  df['Work_Experience'].fillna(mean_work_experience, inplace=True)\n"
     ]
    }
   ],
   "source": [
    "# Replace NaN in 'Work_Experience' with mean value\n",
    "mean_work_experience = df['Work_Experience'].mean()\n",
    "df['Work_Experience'].fillna(mean_work_experience, inplace=True)"
   ]
  },
  {
   "cell_type": "code",
   "execution_count": 16,
   "id": "e8aa62b5-018a-4216-bf28-1fcf1a666fbd",
   "metadata": {},
   "outputs": [
    {
     "name": "stderr",
     "output_type": "stream",
     "text": [
      "C:\\Users\\hxiuf\\AppData\\Local\\Temp\\ipykernel_12492\\140688588.py:2: FutureWarning: A value is trying to be set on a copy of a DataFrame or Series through chained assignment using an inplace method.\n",
      "The behavior will change in pandas 3.0. This inplace method will never work because the intermediate object on which we are setting values always behaves as a copy.\n",
      "\n",
      "For example, when doing 'df[col].method(value, inplace=True)', try using 'df.method({col: value}, inplace=True)' or df[col] = df[col].method(value) instead, to perform the operation inplace on the original object.\n",
      "\n",
      "\n",
      "  df['Profession'].fillna('Unknown', inplace=True)\n"
     ]
    }
   ],
   "source": [
    "# Replace NaN in 'Profession' with 'Unknown'\n",
    "df['Profession'].fillna('Unknown', inplace=True)"
   ]
  },
  {
   "cell_type": "code",
   "execution_count": 18,
   "id": "fecba692-a6f8-456b-97d6-58e0c0a67efe",
   "metadata": {},
   "outputs": [
    {
     "name": "stderr",
     "output_type": "stream",
     "text": [
      "C:\\Users\\hxiuf\\AppData\\Local\\Temp\\ipykernel_12492\\45170972.py:3: FutureWarning: A value is trying to be set on a copy of a DataFrame or Series through chained assignment using an inplace method.\n",
      "The behavior will change in pandas 3.0. This inplace method will never work because the intermediate object on which we are setting values always behaves as a copy.\n",
      "\n",
      "For example, when doing 'df[col].method(value, inplace=True)', try using 'df.method({col: value}, inplace=True)' or df[col] = df[col].method(value) instead, to perform the operation inplace on the original object.\n",
      "\n",
      "\n",
      "  df['Family_Size'].fillna(mean_family_size, inplace=True)\n"
     ]
    }
   ],
   "source": [
    "# Replace NaN in 'Family_Size' with mean value\n",
    "mean_family_size = df['Family_Size'].mean()\n",
    "df['Family_Size'].fillna(mean_family_size, inplace=True)"
   ]
  },
  {
   "cell_type": "code",
   "execution_count": 20,
   "id": "3813f484-a295-4325-a1f6-3860bdf92441",
   "metadata": {},
   "outputs": [],
   "source": [
    "# Drop rows without 'Var_1' value\n",
    "df.dropna(subset=['Var_1'], inplace=True)"
   ]
  },
  {
   "cell_type": "code",
   "execution_count": 22,
   "id": "4c43db0a-f4e4-45b0-9e4d-3d5f053b7b08",
   "metadata": {},
   "outputs": [
    {
     "name": "stdout",
     "output_type": "stream",
     "text": [
      "<class 'pandas.core.frame.DataFrame'>\n",
      "Index: 10587 entries, 0 to 10694\n",
      "Data columns (total 11 columns):\n",
      " #   Column           Non-Null Count  Dtype  \n",
      "---  ------           --------------  -----  \n",
      " 0   ID               10587 non-null  int64  \n",
      " 1   Gender           10587 non-null  object \n",
      " 2   Ever_Married     10587 non-null  object \n",
      " 3   Age              10587 non-null  int64  \n",
      " 4   Graduated        10587 non-null  object \n",
      " 5   Profession       10587 non-null  object \n",
      " 6   Work_Experience  10587 non-null  float64\n",
      " 7   Spending_Score   10587 non-null  object \n",
      " 8   Family_Size      10587 non-null  float64\n",
      " 9   Var_1            10587 non-null  object \n",
      " 10  Segmentation     10587 non-null  object \n",
      "dtypes: float64(2), int64(2), object(7)\n",
      "memory usage: 992.5+ KB\n"
     ]
    }
   ],
   "source": [
    "# Display the DataFrame information again\n",
    "df.info()"
   ]
  },
  {
   "cell_type": "code",
   "execution_count": null,
   "id": "dec71ea3-4d4c-4c02-b5b3-2077e41379ed",
   "metadata": {},
   "outputs": [],
   "source": [
    "# save the cleaned dataset to a csv file\n",
    "df.to_csv('customer_segmentation_cleaned.csv', index=False)"
   ]
  },
  {
   "cell_type": "code",
   "execution_count": null,
   "id": "0dedc88c-cc00-4a55-986d-828e94149a67",
   "metadata": {},
   "outputs": [],
   "source": []
  }
 ],
 "metadata": {
  "kernelspec": {
   "display_name": "Python 3 (ipykernel)",
   "language": "python",
   "name": "python3"
  },
  "language_info": {
   "codemirror_mode": {
    "name": "ipython",
    "version": 3
   },
   "file_extension": ".py",
   "mimetype": "text/x-python",
   "name": "python",
   "nbconvert_exporter": "python",
   "pygments_lexer": "ipython3",
   "version": "3.12.4"
  }
 },
 "nbformat": 4,
 "nbformat_minor": 5
}
